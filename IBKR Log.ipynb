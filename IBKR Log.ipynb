{
 "cells": [
  {
   "cell_type": "code",
   "execution_count": 1,
   "id": "b8e17cfd",
   "metadata": {},
   "outputs": [],
   "source": [
    "from __future__ import absolute_import, division, print_function, unicode_literals\n",
    "import backtrader as bt\n",
    "import datetime\n"
   ]
  },
  {
   "cell_type": "code",
   "execution_count": 2,
   "id": "d116baaf",
   "metadata": {},
   "outputs": [],
   "source": [
    "class St(bt.Strategy):\n",
    "\n",
    "    def logdata(self):\n",
    "            txt = []\n",
    "            txt.append(\"{}\".format(self.data._name))\n",
    "            txt.append(\"{}\".format(len(self)))\n",
    "            txt.append(\"{}\".format(self.data.datetime.date(0)))\n",
    "            txt.append(\"{:.2f}\".format(self.data.open[0]))\n",
    "            txt.append(\"{:.2f}\".format(self.data.high[0]))\n",
    "            txt.append(\"{:.2f}\".format(self.data.low[0]))\n",
    "            txt.append(\"{:.2f}\".format(self.data.close[0]))\n",
    "            txt.append(\"{:.2f}\".format(self.data.volume[0]))\n",
    "            print(\", \".join(txt))\n",
    "\n",
    "    def prenext(self):\n",
    "        print(\"ok\")\n",
    "        print(\"PRE-NEXT\", self.data.close[0], self.rsi+0,\n",
    "                self.data.datetime.datetime().strftime('%m-%d %H:%M:%S'),\n",
    "                self.data1.datetime.datetime().strftime('%m-%d %H:%M:%S')\n",
    "              )\n",
    "\n",
    "    def next(self):\n",
    "        print(\"ok\")\n",
    "        self.logdata()\n",
    "\n",
    "    def notify_store(self, msg, *args, **kwargs):\n",
    "        print('STORE NOTIF:{}', msg)"
   ]
  },
  {
   "cell_type": "code",
   "execution_count": 3,
   "id": "694afc01",
   "metadata": {},
   "outputs": [
    {
     "data": {
      "text/plain": [
       "\"\\ndata = store.getdata(dataname='GBP.USD',\\n                     sectype='CASH',\\n                     exchange='IDEALPRO',\\n                     fromdate=datetime.datetime(2019, 9, 11),\\n                     timeframe=bt.TimeFrame.Days,\\n                     compression=5)\\ncerebro.adddata(data)\\n\""
      ]
     },
     "execution_count": 3,
     "metadata": {},
     "output_type": "execute_result"
    }
   ],
   "source": [
    "\n",
    "cerebro = bt.Cerebro()\n",
    "\n",
    "store = bt.stores.IBStore(host=\"127.0.0.1\", port=7497)\n",
    "cerebro.broker = store.getbroker()\n",
    "\n",
    "stockkwargs = dict(\n",
    "    timeframe=bt.TimeFrame.Minutes,\n",
    "    rtbar=False,  # use RealTime 5 seconds bars\n",
    "    historical=True,  # only historical download\n",
    "    qcheck=0.5,  # timeout in seconds (float) to check for events\n",
    "    #fromdate=datetime.datetime(2021, 9, 24),  # get data from..\n",
    "    #todate=datetime.datetime(2022, 9, 25),  # get data from..\n",
    "    latethrough=False,  # let late samples through\n",
    "    tradename=None  # use a different asset as order target\n",
    ")\n",
    "data0 = store.getdata(dataname=\"AAPL-STK-SMART-USD\", **stockkwargs)\n",
    "cerebro.resampledata(data0, timeframe=bt.TimeFrame.Minutes, compression=1)\n",
    "\n",
    "\"\"\"\n",
    "data = store.getdata(dataname='GBP.USD',\n",
    "                     sectype='CASH',\n",
    "                     exchange='IDEALPRO',\n",
    "                     fromdate=datetime.datetime(2019, 9, 11),\n",
    "                     timeframe=bt.TimeFrame.Days,\n",
    "                     compression=5)\n",
    "cerebro.adddata(data)\n",
    "\"\"\"\n"
   ]
  },
  {
   "cell_type": "code",
   "execution_count": null,
   "id": "f110bd91",
   "metadata": {},
   "outputs": [],
   "source": [
    "#data = store.getdata(dataname='TWTR', timeframe=bt.TimeFrame.Ticks)\n",
    "#cerebro.resampledata(data, timeframe=bt.TimeFrame.Seconds, compression=10)\n",
    "cerebro.addstrategy(St)\n",
    "cerebro.run()\n",
    "\n"
   ]
  },
  {
   "cell_type": "code",
   "execution_count": 10,
   "id": "81814c66",
   "metadata": {},
   "outputs": [
    {
     "data": {
      "text/plain": [
       "<backtrader.cerebro.Cerebro at 0x20153eebcd0>"
      ]
     },
     "execution_count": 10,
     "metadata": {},
     "output_type": "execute_result"
    }
   ],
   "source": [
    "cerebro"
   ]
  },
  {
   "cell_type": "code",
   "execution_count": 11,
   "id": "6d054da8",
   "metadata": {},
   "outputs": [
    {
     "data": {
      "text/plain": [
       "<backtrader.feeds.ibdata.IBData at 0x20153eeb7f0>"
      ]
     },
     "execution_count": 11,
     "metadata": {},
     "output_type": "execute_result"
    }
   ],
   "source": [
    "data"
   ]
  },
  {
   "cell_type": "code",
   "execution_count": 1,
   "id": "8ee06e98",
   "metadata": {},
   "outputs": [
    {
     "name": "stdout",
     "output_type": "stream",
     "text": [
      "ok\n",
      "STORE NOTIF:{} <error id=-1, errorCode=502, errorMsg=Couldn't connect to TWS.  Confirm that \"Enable ActiveX and Socket Clients\" is enabled on the TWS \"Configure->API\" menu.>\n",
      "STORE NOTIF:{} <error id=-1, errorCode=502, errorMsg=Couldn't connect to TWS.  Confirm that \"Enable ActiveX and Socket Clients\" is enabled on the TWS \"Configure->API\" menu.>\n",
      "STORE NOTIF:{} <error id=-1, errorCode=502, errorMsg=Couldn't connect to TWS.  Confirm that \"Enable ActiveX and Socket Clients\" is enabled on the TWS \"Configure->API\" menu.>\n",
      "STORE NOTIF:{} <error id=-1, errorCode=502, errorMsg=Couldn't connect to TWS.  Confirm that \"Enable ActiveX and Socket Clients\" is enabled on the TWS \"Configure->API\" menu.>\n"
     ]
    }
   ],
   "source": [
    "#!/usr/bin/env python\n",
    "# -*- coding: utf-8; py-indent-offset:4 -*-e\n",
    "\n",
    "from __future__ import absolute_import, division, print_function, unicode_literals\n",
    "import backtrader as bt\n",
    "import datetime\n",
    "\n",
    "class St(bt.Strategy):\n",
    "\n",
    "    def logdata(self):\n",
    "            txt = []\n",
    "            txt.append(\"{}\".format(self.data._name))\n",
    "            txt.append(\"{}\".format(len(self)))\n",
    "            txt.append(\"{}\".format(self.data.datetime.date(0)))\n",
    "            txt.append(\"{:.2f}\".format(self.data.open[0]))\n",
    "            txt.append(\"{:.2f}\".format(self.data.high[0]))\n",
    "            txt.append(\"{:.2f}\".format(self.data.low[0]))\n",
    "            txt.append(\"{:.2f}\".format(self.data.close[0]))\n",
    "            txt.append(\"{:.2f}\".format(self.data.volume[0]))\n",
    "            print(\", \".join(txt))\n",
    "\n",
    "\n",
    "    def next(self):\n",
    "        self.logdata()\n",
    "        \n",
    "    def notify_store(self, msg, *args, **kwargs):\n",
    "        print('STORE NOTIF:{}', msg)\n",
    "\n",
    "\n",
    "def run():\n",
    "\n",
    "    cerebro = bt.Cerebro(stdstats=False)\n",
    "\n",
    "    store = bt.stores.IBStore(host=\"127.0.0.1\", port=7497, clientId = \"DU3266081\")\n",
    "    cerebro.broker = store.getbroker()\n",
    "\n",
    "    stockkwargs = dict(\n",
    "        timeframe=bt.TimeFrame.Minutes,\n",
    "        rtbar=False,  # use RealTime 5 seconds bars\n",
    "        historical=True,  # only historical download\n",
    "        qcheck=0.5,  # timeout in seconds (float) to check for events\n",
    "        fromdate=datetime.datetime(2019, 9, 24),  # get data from..\n",
    "        todate=datetime.datetime(2019, 9, 25),  # get data from..\n",
    "        latethrough=False,  # let late samples through\n",
    "        tradename=None  # use a different asset as order target\n",
    "    )\n",
    "    data0 = store.getdata(dataname=\"AAPL-STK-SMART-USD\", **stockkwargs)\n",
    "    cerebro.resampledata(data0, timeframe=bt.TimeFrame.Minutes, compression=5)\n",
    "\n",
    "    cerebro.addstrategy(St)\n",
    "    cerebro.run()\n",
    "\n",
    "\n",
    "print(\"ok\")\n",
    "run()\n"
   ]
  },
  {
   "cell_type": "code",
   "execution_count": null,
   "id": "fa968d63",
   "metadata": {},
   "outputs": [],
   "source": []
  },
  {
   "cell_type": "code",
   "execution_count": null,
   "id": "06d1b3b4",
   "metadata": {},
   "outputs": [],
   "source": []
  }
 ],
 "metadata": {
  "kernelspec": {
   "display_name": "Python 3 (ipykernel)",
   "language": "python",
   "name": "python3"
  },
  "language_info": {
   "codemirror_mode": {
    "name": "ipython",
    "version": 3
   },
   "file_extension": ".py",
   "mimetype": "text/x-python",
   "name": "python",
   "nbconvert_exporter": "python",
   "pygments_lexer": "ipython3",
   "version": "3.9.13"
  }
 },
 "nbformat": 4,
 "nbformat_minor": 5
}
