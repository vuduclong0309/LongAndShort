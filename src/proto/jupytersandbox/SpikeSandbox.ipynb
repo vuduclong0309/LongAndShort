{
 "cells": [
  {
   "cell_type": "code",
   "execution_count": 1,
   "id": "b8e17cfd",
   "metadata": {},
   "outputs": [],
   "source": [
    "from __future__ import absolute_import, division, print_function, unicode_literals\n",
    "import backtrader as bt\n",
    "import datetime\n"
   ]
  },
  {
   "cell_type": "code",
   "execution_count": 11,
   "id": "d8dac2e6",
   "metadata": {},
   "outputs": [
    {
     "name": "stdout",
     "output_type": "stream",
     "text": [
      "90415395\n"
     ]
    }
   ],
   "source": [
    "from random import random\n",
    "print(int(random() * 100000000) % 2047873872)"
   ]
  },
  {
   "cell_type": "code",
   "execution_count": 12,
   "id": "d116baaf",
   "metadata": {},
   "outputs": [
    {
     "ename": "NameError",
     "evalue": "name 'bt' is not defined",
     "output_type": "error",
     "traceback": [
      "\u001b[1;31m---------------------------------------------------------------------------\u001b[0m",
      "\u001b[1;31mNameError\u001b[0m                                 Traceback (most recent call last)",
      "Cell \u001b[1;32mIn [12], line 1\u001b[0m\n\u001b[1;32m----> 1\u001b[0m \u001b[38;5;28;01mclass\u001b[39;00m \u001b[38;5;21;01mSt\u001b[39;00m(bt\u001b[38;5;241m.\u001b[39mStrategy):\n\u001b[0;32m      3\u001b[0m     \u001b[38;5;28;01mdef\u001b[39;00m \u001b[38;5;21mlogdata\u001b[39m(\u001b[38;5;28mself\u001b[39m):\n\u001b[0;32m      4\u001b[0m             txt \u001b[38;5;241m=\u001b[39m []\n",
      "\u001b[1;31mNameError\u001b[0m: name 'bt' is not defined"
     ]
    }
   ],
   "source": [
    "class St(bt.Strategy):\n",
    "\n",
    "    def logdata(self):\n",
    "            txt = []\n",
    "            txt.append(\"{}\".format(self.data._name))\n",
    "            txt.append(\"{}\".format(len(self)))\n",
    "            txt.append(\"{}\".format(self.data.datetime.date(0)))\n",
    "            txt.append(\"{:.2f}\".format(self.data.open[0]))\n",
    "            txt.append(\"{:.2f}\".format(self.data.high[0]))\n",
    "            txt.append(\"{:.2f}\".format(self.data.low[0]))\n",
    "            txt.append(\"{:.2f}\".format(self.data.close[0]))\n",
    "            txt.append(\"{:.2f}\".format(self.data.volume[0]))\n",
    "            print(\", \".join(txt))\n",
    "\n",
    "    def prenext(self):\n",
    "        print(\"ok\")\n",
    "        print(\"PRE-NEXT\", self.data.close[0], self.rsi+0,\n",
    "                self.data.datetime.datetime().strftime('%m-%d %H:%M:%S'),\n",
    "                self.data1.datetime.datetime().strftime('%m-%d %H:%M:%S')\n",
    "              )\n",
    "\n",
    "    def next(self):\n",
    "        print(\"ok\")\n",
    "        self.logdata()\n",
    "\n",
    "    def notify_store(self, msg, *args, **kwargs):\n",
    "        print('STORE NOTIF:{}', msg)"
   ]
  },
  {
   "cell_type": "code",
   "execution_count": 8,
   "id": "694afc01",
   "metadata": {},
   "outputs": [
    {
     "ename": "NameError",
     "evalue": "name 'bt' is not defined",
     "output_type": "error",
     "traceback": [
      "\u001b[1;31m---------------------------------------------------------------------------\u001b[0m",
      "\u001b[1;31mNameError\u001b[0m                                 Traceback (most recent call last)",
      "Cell \u001b[1;32mIn [8], line 1\u001b[0m\n\u001b[1;32m----> 1\u001b[0m cerebro \u001b[38;5;241m=\u001b[39m bt\u001b[38;5;241m.\u001b[39mCerebro()\n\u001b[0;32m      3\u001b[0m store \u001b[38;5;241m=\u001b[39m bt\u001b[38;5;241m.\u001b[39mstores\u001b[38;5;241m.\u001b[39mIBStore(host\u001b[38;5;241m=\u001b[39m\u001b[38;5;124m\"\u001b[39m\u001b[38;5;124m127.0.0.1\u001b[39m\u001b[38;5;124m\"\u001b[39m, port\u001b[38;5;241m=\u001b[39m\u001b[38;5;241m7497\u001b[39m)\n\u001b[0;32m      4\u001b[0m cerebro\u001b[38;5;241m.\u001b[39mbroker \u001b[38;5;241m=\u001b[39m store\u001b[38;5;241m.\u001b[39mgetbroker()\n",
      "\u001b[1;31mNameError\u001b[0m: name 'bt' is not defined"
     ]
    }
   ],
   "source": [
    "\n",
    "cerebro = bt.Cerebro()\n",
    "\n",
    "store = bt.stores.IBStore(host=\"127.0.0.1\", port=7497)\n",
    "cerebro.broker = store.getbroker()\n",
    "\n",
    "print(cerebro.broker.getvalue())\n",
    "\n",
    "stockkwargs = dict(\n",
    "    timeframe=bt.TimeFrame.Minutes,\n",
    "    rtbar=False,  # use RealTime 5 seconds bars\n",
    "    historical=True,  # only historical download\n",
    "    qcheck=0.5,  # timeout in seconds (float) to check for events\n",
    "    #fromdate=datetime.datetime(2021, 9, 24),  # get data from..\n",
    "    #todate=datetime.datetime(2022, 9, 25),  # get data from..\n",
    "    latethrough=False,  # let late samples through\n",
    "    tradename=None  # use a different asset as order target\n",
    ")\n",
    "data0 = store.getdata(dataname=\"AAPL-STK-SMART-USD\", **stockkwargs)\n",
    "cerebro.resampledata(data0, timeframe=bt.TimeFrame.Minutes, compression=1)\n",
    "\n",
    "\"\"\"\n",
    "data = store.getdata(dataname='GBP.USD',\n",
    "                     sectype='CASH',\n",
    "                     exchange='IDEALPRO',\n",
    "                     fromdate=datetime.datetime(2019, 9, 11),\n",
    "                     timeframe=bt.TimeFrame.Days,\n",
    "                     compression=5)\n",
    "cerebro.adddata(data)\n",
    "\"\"\"\n"
   ]
  },
  {
   "cell_type": "code",
   "execution_count": 9,
   "id": "f110bd91",
   "metadata": {},
   "outputs": [
    {
     "ename": "NameError",
     "evalue": "name 'cerebro' is not defined",
     "output_type": "error",
     "traceback": [
      "\u001b[1;31m---------------------------------------------------------------------------\u001b[0m",
      "\u001b[1;31mNameError\u001b[0m                                 Traceback (most recent call last)",
      "Cell \u001b[1;32mIn [9], line 3\u001b[0m\n\u001b[0;32m      1\u001b[0m \u001b[38;5;66;03m#data = store.getdata(dataname='TWTR', timeframe=bt.TimeFrame.Ticks)\u001b[39;00m\n\u001b[0;32m      2\u001b[0m \u001b[38;5;66;03m#cerebro.resampledata(data, timeframe=bt.TimeFrame.Seconds, compression=10)\u001b[39;00m\n\u001b[1;32m----> 3\u001b[0m cerebro\u001b[38;5;241m.\u001b[39maddstrategy(St)\n\u001b[0;32m      4\u001b[0m cerebro\u001b[38;5;241m.\u001b[39mrun()\n",
      "\u001b[1;31mNameError\u001b[0m: name 'cerebro' is not defined"
     ]
    }
   ],
   "source": [
    "#data = store.getdata(dataname='TWTR', timeframe=bt.TimeFrame.Ticks)\n",
    "#cerebro.resampledata(data, timeframe=bt.TimeFrame.Seconds, compression=10)\n",
    "cerebro.addstrategy(St)\n",
    "cerebro.run()\n",
    "\n"
   ]
  },
  {
   "cell_type": "code",
   "execution_count": 10,
   "id": "81814c66",
   "metadata": {},
   "outputs": [
    {
     "data": {
      "text/plain": [
       "<backtrader.cerebro.Cerebro at 0x20153eebcd0>"
      ]
     },
     "execution_count": 10,
     "metadata": {},
     "output_type": "execute_result"
    }
   ],
   "source": [
    "cerebro"
   ]
  },
  {
   "cell_type": "code",
   "execution_count": 11,
   "id": "6d054da8",
   "metadata": {},
   "outputs": [
    {
     "data": {
      "text/plain": [
       "<backtrader.feeds.ibdata.IBData at 0x20153eeb7f0>"
      ]
     },
     "execution_count": 11,
     "metadata": {},
     "output_type": "execute_result"
    }
   ],
   "source": [
    "data"
   ]
  },
  {
   "cell_type": "code",
   "execution_count": 1,
   "id": "8ee06e98",
   "metadata": {},
   "outputs": [
    {
     "name": "stdout",
     "output_type": "stream",
     "text": [
      "ok\n",
      "STORE NOTIF:{} <error id=-1, errorCode=502, errorMsg=Couldn't connect to TWS.  Confirm that \"Enable ActiveX and Socket Clients\" is enabled on the TWS \"Configure->API\" menu.>\n",
      "STORE NOTIF:{} <error id=-1, errorCode=502, errorMsg=Couldn't connect to TWS.  Confirm that \"Enable ActiveX and Socket Clients\" is enabled on the TWS \"Configure->API\" menu.>\n",
      "STORE NOTIF:{} <error id=-1, errorCode=502, errorMsg=Couldn't connect to TWS.  Confirm that \"Enable ActiveX and Socket Clients\" is enabled on the TWS \"Configure->API\" menu.>\n",
      "STORE NOTIF:{} <error id=-1, errorCode=502, errorMsg=Couldn't connect to TWS.  Confirm that \"Enable ActiveX and Socket Clients\" is enabled on the TWS \"Configure->API\" menu.>\n"
     ]
    }
   ],
   "source": [
    "#!/usr/bin/env python\n",
    "# -*- coding: utf-8; py-indent-offset:4 -*-e\n",
    "\n",
    "from __future__ import absolute_import, division, print_function, unicode_literals\n",
    "import backtrader as bt\n",
    "import datetime\n",
    "\n",
    "class St(bt.Strategy):\n",
    "\n",
    "    def logdata(self):\n",
    "            txt = []\n",
    "            txt.append(\"{}\".format(self.data._name))\n",
    "            txt.append(\"{}\".format(len(self)))\n",
    "            txt.append(\"{}\".format(self.data.datetime.date(0)))\n",
    "            txt.append(\"{:.2f}\".format(self.data.open[0]))\n",
    "            txt.append(\"{:.2f}\".format(self.data.high[0]))\n",
    "            txt.append(\"{:.2f}\".format(self.data.low[0]))\n",
    "            txt.append(\"{:.2f}\".format(self.data.close[0]))\n",
    "            txt.append(\"{:.2f}\".format(self.data.volume[0]))\n",
    "            print(\", \".join(txt))\n",
    "\n",
    "\n",
    "    def next(self):\n",
    "        self.logdata()\n",
    "        \n",
    "    def notify_store(self, msg, *args, **kwargs):\n",
    "        print('STORE NOTIF:{}', msg)\n",
    "\n",
    "\n",
    "def run():\n",
    "\n",
    "    cerebro = bt.Cerebro(stdstats=False)\n",
    "\n",
    "    store = bt.stores.IBStore(host=\"127.0.0.1\", port=7497, clientId = \"DU3266081\")\n",
    "    cerebro.broker = store.getbroker()\n",
    "\n",
    "    stockkwargs = dict(\n",
    "        timeframe=bt.TimeFrame.Minutes,\n",
    "        rtbar=False,  # use RealTime 5 seconds bars\n",
    "        historical=True,  # only historical download\n",
    "        qcheck=0.5,  # timeout in seconds (float) to check for events\n",
    "        fromdate=datetime.datetime(2019, 9, 24),  # get data from..\n",
    "        todate=datetime.datetime(2019, 9, 25),  # get data from..\n",
    "        latethrough=False,  # let late samples through\n",
    "        tradename=None  # use a different asset as order target\n",
    "    )\n",
    "    data0 = store.getdata(dataname=\"AAPL-STK-SMART-USD\", **stockkwargs)\n",
    "    cerebro.resampledata(data0, timeframe=bt.TimeFrame.Minutes, compression=5)\n",
    "\n",
    "    cerebro.addstrategy(St)\n",
    "    cerebro.run()\n",
    "\n",
    "\n",
    "print(\"ok\")\n",
    "run()\n"
   ]
  },
  {
   "cell_type": "code",
   "execution_count": 2,
   "id": "fa968d63",
   "metadata": {},
   "outputs": [],
   "source": [
    "#!/usr/bin/env python\n",
    "# -*- coding: utf-8; py-indent-offset:4 -*-\n",
    "###############################################################################\n",
    "#\n",
    "# Copyright (C) 2015-2020 Daniel Rodriguez\n",
    "#\n",
    "# This program is free software: you can redistribute it and/or modify\n",
    "# it under the terms of the GNU General Public License as published by\n",
    "# the Free Software Foundation, either version 3 of the License, or\n",
    "# (at your option) any later version.\n",
    "#\n",
    "# This program is distributed in the hope that it will be useful,\n",
    "# but WITHOUT ANY WARRANTY; without even the implied warranty of\n",
    "# MERCHANTABILITY or FITNESS FOR A PARTICULAR PURPOSE.  See the\n",
    "# GNU General Public License for more details.\n",
    "#\n",
    "# You should have received a copy of the GNU General Public License\n",
    "# along with this program.  If not, see <http://www.gnu.org/licenses/>.\n",
    "#\n",
    "###############################################################################\n",
    "from __future__ import (absolute_import, division, print_function,\n",
    "                        unicode_literals)\n",
    "\n",
    "import datetime\n",
    "import math\n",
    "import time as _time\n",
    "\n",
    "\n",
    "\n",
    "ZERO = datetime.timedelta(0)\n",
    "\n",
    "STDOFFSET = datetime.timedelta(seconds=-_time.timezone)\n",
    "if _time.daylight:\n",
    "    DSTOFFSET = datetime.timedelta(seconds=-_time.altzone)\n",
    "else:\n",
    "    DSTOFFSET = STDOFFSET\n",
    "\n",
    "DSTDIFF = DSTOFFSET - STDOFFSET\n",
    "\n",
    "# To avoid rounding errors taking dates to next day\n",
    "TIME_MAX = datetime.time(23, 59, 59, 999990)\n",
    "\n",
    "# To avoid rounding errors taking dates to next day\n",
    "TIME_MIN = datetime.time.min\n",
    "\n",
    "\n",
    "\n",
    "\n",
    "def Localizer(tz):\n",
    "    import types\n",
    "\n",
    "    def localize(self, dt):\n",
    "        return dt.replace(tzinfo=self)\n",
    "\n",
    "    if tz is not None and not hasattr(tz, 'localize'):\n",
    "        # patch the tz instance with a bound method\n",
    "        tz.localize = types.MethodType(localize, tz)\n",
    "\n",
    "    return tz\n",
    "\n",
    "\n",
    "# A UTC class, same as the one in the Python Docs\n",
    "class _UTC(datetime.tzinfo):\n",
    "    \"\"\"UTC\"\"\"\n",
    "\n",
    "    def utcoffset(self, dt):\n",
    "        return ZERO\n",
    "\n",
    "    def tzname(self, dt):\n",
    "        return \"UTC\"\n",
    "\n",
    "    def dst(self, dt):\n",
    "        return ZERO\n",
    "\n",
    "    def localize(self, dt):\n",
    "        return dt.replace(tzinfo=self)\n",
    "\n",
    "\n",
    "class _LocalTimezone(datetime.tzinfo):\n",
    "\n",
    "    def utcoffset(self, dt):\n",
    "        if self._isdst(dt):\n",
    "            return DSTOFFSET\n",
    "        else:\n",
    "            return STDOFFSET\n",
    "\n",
    "    def dst(self, dt):\n",
    "        if self._isdst(dt):\n",
    "            return DSTDIFF\n",
    "        else:\n",
    "            return ZERO\n",
    "\n",
    "    def tzname(self, dt):\n",
    "        return _time.tzname[self._isdst(dt)]\n",
    "\n",
    "    def _isdst(self, dt):\n",
    "        tt = (dt.year, dt.month, dt.day,\n",
    "              dt.hour, dt.minute, dt.second,\n",
    "              dt.weekday(), 0, 0)\n",
    "        try:\n",
    "            stamp = _time.mktime(tt)\n",
    "        except (ValueError, OverflowError):\n",
    "            return False  # Too far in the future, not relevant\n",
    "\n",
    "        tt = _time.localtime(stamp)\n",
    "        return tt.tm_isdst > 0\n",
    "\n",
    "    def localize(self, dt):\n",
    "        return dt.replace(tzinfo=self)\n",
    "\n",
    "\n",
    "UTC = _UTC()\n",
    "TZLocal = _LocalTimezone()\n",
    "\n",
    "\n",
    "HOURS_PER_DAY = 24.0\n",
    "MINUTES_PER_HOUR = 60.0\n",
    "SECONDS_PER_MINUTE = 60.0\n",
    "MUSECONDS_PER_SECOND = 1e6\n",
    "MINUTES_PER_DAY = MINUTES_PER_HOUR * HOURS_PER_DAY\n",
    "SECONDS_PER_DAY = SECONDS_PER_MINUTE * MINUTES_PER_DAY\n",
    "MUSECONDS_PER_DAY = MUSECONDS_PER_SECOND * SECONDS_PER_DAY\n",
    "\n",
    "\n",
    "def num2date(x, tz=None, naive=True):\n",
    "    # Same as matplotlib except if tz is None a naive datetime object\n",
    "    # will be returned.\n",
    "    \"\"\"\n",
    "    *x* is a float value which gives the number of days\n",
    "    (fraction part represents hours, minutes, seconds) since\n",
    "    0001-01-01 00:00:00 UTC *plus* *one*.\n",
    "    The addition of one here is a historical artifact.  Also, note\n",
    "    that the Gregorian calendar is assumed; this is not universal\n",
    "    practice.  For details, see the module docstring.\n",
    "    Return value is a :class:`datetime` instance in timezone *tz* (default to\n",
    "    rcparams TZ value).\n",
    "    If *x* is a sequence, a sequence of :class:`datetime` objects will\n",
    "    be returned.\n",
    "    \"\"\"\n",
    "\n",
    "    ix = int(x)\n",
    "    dt = datetime.datetime.fromordinal(ix)\n",
    "    remainder = float(x) - ix\n",
    "    hour, remainder = divmod(HOURS_PER_DAY * remainder, 1)\n",
    "    minute, remainder = divmod(MINUTES_PER_HOUR * remainder, 1)\n",
    "    second, remainder = divmod(SECONDS_PER_MINUTE * remainder, 1)\n",
    "    microsecond = int(MUSECONDS_PER_SECOND * remainder)\n",
    "    if microsecond < 10:\n",
    "        microsecond = 0  # compensate for rounding errors\n",
    "\n",
    "    if True and tz is not None:\n",
    "        dt = datetime.datetime(\n",
    "            dt.year, dt.month, dt.day, int(hour), int(minute), int(second),\n",
    "            microsecond, tzinfo=UTC)\n",
    "        dt = dt.astimezone(tz)\n",
    "        if naive:\n",
    "            dt = dt.replace(tzinfo=None)\n",
    "    else:\n",
    "        # If not tz has been passed return a non-timezoned dt\n",
    "        dt = datetime.datetime(\n",
    "            dt.year, dt.month, dt.day, int(hour), int(minute), int(second),\n",
    "            microsecond)\n",
    "\n",
    "    if microsecond > 999990:  # compensate for rounding errors\n",
    "        dt += datetime.timedelta(microseconds=1e6 - microsecond)\n",
    "\n",
    "    return dt"
   ]
  },
  {
   "cell_type": "code",
   "execution_count": 4,
   "id": "06d1b3b4",
   "metadata": {},
   "outputs": [],
   "source": [
    "#Imports\n",
    "import ibapi\n",
    "from ibapi.client import EClient\n",
    "from ibapi.wrapper import EWrapper\n",
    "from ibapi.contract import Contract\n",
    "from ibapi.order import *"
   ]
  },
  {
   "cell_type": "code",
   "execution_count": 6,
   "id": "6d75fef3",
   "metadata": {},
   "outputs": [],
   "source": [
    "class IBApi(EWrapper,EClient):\n",
    "    def __init__(self):\n",
    "        EClient.__init__(self, self)\n",
    "    # Historical Backtest Data\n",
    "    def historicalData(self, reqId, bar):\n",
    "        try:\n",
    "            bot.on_bar_update(reqId,bar,False)\n",
    "        except Exception as e:\n",
    "            print(e)\n",
    "    # On Realtime Bar after historical data finishes\n",
    "    def historicalDataUpdate(self, reqId, bar):\n",
    "        try:\n",
    "            bot.on_bar_update(reqId,bar,True)\n",
    "        except Exception as e:\n",
    "            print(e)\n",
    "    # On Historical Data End\n",
    "    def historicalDataEnd(self, reqId, start, end):\n",
    "        print(reqId)\n",
    "    # Get next order id we can use\n",
    "    def nextValidId(self, nextorderId):\n",
    "        global orderId\n",
    "        orderId = nextorderId\n",
    "    # Listen for realtime bars\n",
    "    def realtimeBar(self, reqId, time, open_, high, low, close,volume, wap, count):\n",
    "        super().realtimeBar(reqId, time, open_, high, low, close, volume, wap, count)\n",
    "        try:\n",
    "            bot.on_bar_update(reqId, time, open_, high, low, close, volume, wap, count)\n",
    "        except Exception as e:\n",
    "            print(e)\n",
    "    def error(self, id, errorCode, errorMsg):\n",
    "        print(errorCode)\n",
    "        print(errorMsg)"
   ]
  },
  {
   "cell_type": "code",
   "execution_count": 9,
   "id": "e85dfe42",
   "metadata": {},
   "outputs": [],
   "source": [
    "ib = IBApi()\n",
    "ib.connect(\"127.0.0.1\", 7497,1)\n",
    "barsize = 1\n",
    "mintext = \"min\"\n",
    "\n",
    "contract = Contract()\n",
    "contract.symbol = \"AAPL\"\n",
    "contract.secType = \"STK\"\n",
    "contract.exchange = \"SMART\"\n",
    "contract.currency = \"USD\"\n",
    "\n",
    "ib.reqIds(-1)\n",
    "# Request Market Data\n",
    "#self.ib.reqRealTimeBars(0, contract, 5, \"TRADES\", 1, [])\n",
    "ib.reqHistoricalData(1,contract,\"\",\"2 D\",str(barsize)+mintext,\"TRADES\",1,1,True,[])"
   ]
  },
  {
   "cell_type": "code",
   "execution_count": 3,
   "id": "2f2780ff",
   "metadata": {},
   "outputs": [
    {
     "name": "stdout",
     "output_type": "stream",
     "text": [
      "ok\n",
      "396.7900085449219\n",
      "ok\n"
     ]
    },
    {
     "data": {
      "text/plain": [
       "'20221118'"
      ]
     },
     "execution_count": 3,
     "metadata": {},
     "output_type": "execute_result"
    }
   ],
   "source": [
    "import backtrader as bt\n",
    "import yfinance as yf\n",
    "\n",
    "symbol = \"SPY\"\n",
    "stock = yf.Ticker(symbol)\n",
    "print(\"ok\")\n",
    "latest_price = stock.history(period='0d', interval='1m')['Close'][0]\n",
    "print(latest_price)\n",
    "print(\"ok\")\n",
    "\n",
    "# Completely optional but I recommend having some sort of round(er?).\n",
    "# Dealing with 148.60000610351562 is a pain.\n",
    "estimate = round(latest_price, 2) \n",
    "stock.options[2].replace('-', '')\n"
   ]
  },
  {
   "cell_type": "code",
   "execution_count": null,
   "id": "1f5c9702",
   "metadata": {},
   "outputs": [],
   "source": [
    "latest_price = stock.history(period='0d', interval='1m')['Close'][-1]\n",
    "latest_price"
   ]
  },
  {
   "cell_type": "code",
   "execution_count": null,
   "id": "1dfc48b1",
   "metadata": {},
   "outputs": [],
   "source": [
    "stock.history(period='1d').index[0]"
   ]
  },
  {
   "cell_type": "code",
   "execution_count": 2,
   "id": "918cbbc5",
   "metadata": {},
   "outputs": [
    {
     "ename": "NameError",
     "evalue": "name 'yf' is not defined",
     "output_type": "error",
     "traceback": [
      "\u001b[1;31m---------------------------------------------------------------------------\u001b[0m",
      "\u001b[1;31mNameError\u001b[0m                                 Traceback (most recent call last)",
      "Cell \u001b[1;32mIn [2], line 11\u001b[0m\n\u001b[0;32m      7\u001b[0m     \u001b[38;5;66;03m# Completely optional but I recommend having some sort of round(er?).\u001b[39;00m\n\u001b[0;32m      8\u001b[0m     \u001b[38;5;66;03m# Dealing with 148.60000610351562 is a pain.\u001b[39;00m\n\u001b[0;32m      9\u001b[0m     \u001b[38;5;28;01mreturn\u001b[39;00m basetime, \u001b[38;5;28mint\u001b[39m(latest_price)\n\u001b[1;32m---> 11\u001b[0m \u001b[38;5;28mprint\u001b[39m (getTradingRange(\u001b[38;5;124m\"\u001b[39m\u001b[38;5;124mSPY\u001b[39m\u001b[38;5;124m\"\u001b[39m))\n",
      "Cell \u001b[1;32mIn [2], line 2\u001b[0m, in \u001b[0;36mgetTradingRange\u001b[1;34m(symbol)\u001b[0m\n\u001b[0;32m      1\u001b[0m \u001b[38;5;28;01mdef\u001b[39;00m \u001b[38;5;21mgetTradingRange\u001b[39m(symbol):\n\u001b[1;32m----> 2\u001b[0m     stock \u001b[38;5;241m=\u001b[39m \u001b[43myf\u001b[49m\u001b[38;5;241m.\u001b[39mTicker(symbol)\n\u001b[0;32m      3\u001b[0m     stock\n\u001b[0;32m      4\u001b[0m     latest_price \u001b[38;5;241m=\u001b[39m stock\u001b[38;5;241m.\u001b[39mhistory(period\u001b[38;5;241m=\u001b[39m\u001b[38;5;124m'\u001b[39m\u001b[38;5;124m0d\u001b[39m\u001b[38;5;124m'\u001b[39m)[\u001b[38;5;124m'\u001b[39m\u001b[38;5;124mOpen\u001b[39m\u001b[38;5;124m'\u001b[39m][\u001b[38;5;241m0\u001b[39m]\n",
      "\u001b[1;31mNameError\u001b[0m: name 'yf' is not defined"
     ]
    }
   ],
   "source": [
    "def getTradingRange(symbol):\n",
    "    stock = yf.Ticker(symbol)\n",
    "    stock\n",
    "    latest_price = stock.history(period='0d')['Open'][0]\n",
    "    basetime = stock.options[2].replace('-', '') # get 3-5dte date\n",
    "\n",
    "    # Completely optional but I recommend having some sort of round(er?).\n",
    "    # Dealing with 148.60000610351562 is a pain.\n",
    "    return basetime, int(latest_price)\n",
    "\n",
    "print (getTradingRange(\"SPY\"))"
   ]
  },
  {
   "cell_type": "code",
   "execution_count": 28,
   "id": "96d95800",
   "metadata": {},
   "outputs": [
    {
     "data": {
      "text/plain": [
       "'20221012'"
      ]
     },
     "execution_count": 28,
     "metadata": {},
     "output_type": "execute_result"
    }
   ],
   "source": [
    "basetime.strftime('%Y%m%d')\n"
   ]
  },
  {
   "cell_type": "code",
   "execution_count": 29,
   "id": "ee8cd089",
   "metadata": {},
   "outputs": [
    {
     "name": "stdout",
     "output_type": "stream",
     "text": [
      "global var update: SPY 20221114 399.0\n"
     ]
    }
   ],
   "source": [
    "import yfinance as yf\n",
    "\n",
    "symbol = \"SPY\"\n",
    "expdate_glob = \"\"\n",
    "strike_glob = 0\n",
    "ct_size = 1\n",
    "\n",
    "dte = {\n",
    "    \"SPX\": 0,\n",
    "    \"SPY\": 2,\n",
    "    \"TSLA\": 0,\n",
    "    \"AAPL\": 0\n",
    "    }\n",
    "\n",
    "\n",
    "def symToYF(symbol):\n",
    "    if symbol == \"SPX\":\n",
    "        return \"^SPX\"\n",
    "    return symbol\n",
    "\n",
    "def updateGlobalVar(symbol, dtestep):\n",
    "    global expdate_glob\n",
    "    global strike_glob\n",
    "    stock = yf.Ticker(symToYF(symbol))\n",
    "    latest_price = stock.history(period='2d', interval='1m')['Close'][-1]\n",
    "    basetime = stock.options[0].replace('-', '') # get 3-5dte date\n",
    "\n",
    "    expdate_glob = basetime\n",
    "\n",
    "    for strike in stock.option_chain().calls['strike']:\n",
    "        if(abs(strike - latest_price) < abs(strike_glob - latest_price)):\n",
    "            strike_glob = strike\n",
    "\n",
    "    print(\"global var update: \"  + symbol + \" \" + expdate_glob + \" \" + str(strike_glob))\n",
    "    return\n",
    "\n",
    "updateGlobalVar(symbol, 2)\n",
    "\n",
    "\n",
    "\n"
   ]
  },
  {
   "cell_type": "code",
   "execution_count": 20,
   "id": "ab0a9265",
   "metadata": {},
   "outputs": [
    {
     "name": "stdout",
     "output_type": "stream",
     "text": [
      "250.0\n",
      "255.0\n",
      "260.0\n",
      "300.0\n",
      "305.0\n",
      "310.0\n",
      "315.0\n",
      "320.0\n",
      "322.0\n",
      "325.0\n",
      "326.0\n",
      "328.0\n",
      "329.0\n",
      "330.0\n",
      "333.0\n",
      "335.0\n",
      "336.0\n",
      "338.0\n",
      "339.0\n",
      "340.0\n",
      "342.0\n",
      "344.0\n",
      "345.0\n",
      "346.0\n",
      "348.0\n",
      "350.0\n",
      "351.0\n",
      "352.0\n",
      "353.0\n",
      "354.0\n",
      "355.0\n",
      "356.0\n",
      "357.0\n",
      "358.0\n",
      "359.0\n",
      "360.0\n",
      "361.0\n",
      "362.0\n",
      "363.0\n",
      "364.0\n",
      "365.0\n",
      "366.0\n",
      "367.0\n",
      "368.0\n",
      "369.0\n",
      "370.0\n",
      "371.0\n",
      "372.0\n",
      "373.0\n",
      "374.0\n",
      "375.0\n",
      "376.0\n",
      "377.0\n",
      "378.0\n",
      "379.0\n",
      "380.0\n",
      "381.0\n",
      "382.0\n",
      "383.0\n",
      "384.0\n",
      "385.0\n",
      "386.0\n",
      "387.0\n",
      "388.0\n",
      "389.0\n",
      "390.0\n",
      "391.0\n",
      "392.0\n",
      "393.0\n",
      "394.0\n",
      "395.0\n",
      "396.0\n",
      "397.0\n",
      "398.0\n",
      "399.0\n",
      "400.0\n",
      "401.0\n",
      "402.0\n",
      "403.0\n",
      "404.0\n",
      "405.0\n",
      "406.0\n",
      "407.0\n",
      "408.0\n",
      "409.0\n",
      "410.0\n",
      "411.0\n",
      "412.0\n",
      "413.0\n",
      "414.0\n",
      "415.0\n",
      "416.0\n",
      "417.0\n",
      "418.0\n",
      "419.0\n",
      "420.0\n",
      "421.0\n",
      "422.0\n",
      "423.0\n",
      "424.0\n",
      "425.0\n",
      "426.0\n",
      "427.0\n",
      "428.0\n",
      "429.0\n",
      "430.0\n",
      "431.0\n",
      "432.0\n",
      "433.0\n",
      "434.0\n",
      "436.0\n",
      "438.0\n",
      "439.0\n",
      "440.0\n",
      "441.0\n",
      "442.0\n",
      "445.0\n",
      "450.0\n",
      "460.0\n"
     ]
    }
   ],
   "source": [
    "for i in stock.option_chain().calls['strike']:\n",
    "    print(i)"
   ]
  }
 ],
 "metadata": {
  "kernelspec": {
   "display_name": "Python 3 (ipykernel)",
   "language": "python",
   "name": "python3"
  },
  "language_info": {
   "codemirror_mode": {
    "name": "ipython",
    "version": 3
   },
   "file_extension": ".py",
   "mimetype": "text/x-python",
   "name": "python",
   "nbconvert_exporter": "python",
   "pygments_lexer": "ipython3",
   "version": "3.9.13"
  }
 },
 "nbformat": 4,
 "nbformat_minor": 5
}
